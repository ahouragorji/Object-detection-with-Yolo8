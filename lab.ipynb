{
 "cells": [
  {
   "cell_type": "code",
   "execution_count": 3,
   "metadata": {},
   "outputs": [],
   "source": [
    "import cv2 as cv\n",
    "from __future__ import print_function\n",
    "import cv2 as cv\n",
    "import numpy as np\n",
    "import argparse\n",
    "src = None\n",
    "erosion_size = 0\n",
    "max_elem = 2\n",
    "max_kernel_size = 21\n",
    "title_trackbar_element_shape = 'Element:\\n 0: Rect \\n 1: Cross \\n 2: Ellipse'\n",
    "title_trackbar_kernel_size = 'Kernel size:\\n 2n +1'\n",
    "title_erosion_window = 'Erosion Demo'\n",
    "title_dilation_window = 'Dilation Demo'\n",
    "\n",
    "\n",
    "# optional mapping of values with morphological shapes\n",
    "def morph_shape(val):\n",
    "    if val == 0:\n",
    "        return cv.MORPH_RECT\n",
    "    elif val == 1:\n",
    "        return cv.MORPH_CROSS\n",
    "    elif val == 2:\n",
    "        return cv.MORPH_ELLIPSE\n",
    "    \n",
    "def erosion(val):\n",
    "    erosion_size = cv.getTrackbarPos(title_trackbar_kernel_size, title_erosion_window)\n",
    "    erosion_shape = morph_shape(cv.getTrackbarPos(title_trackbar_element_shape, title_erosion_window))\n",
    "    \n",
    "    element = cv.getStructuringElement(erosion_shape, (2 * erosion_size + 1, 2 * erosion_size + 1),\n",
    "                                       (erosion_size, erosion_size))\n",
    "    \n",
    "    erosion_dst = cv.erode(src, element)\n",
    "    cv.imshow(title_erosion_window, erosion_dst)\n",
    "    \n",
    "def dilatation(val):\n",
    "        dilatation_size = cv.getTrackbarPos(title_trackbar_kernel_size, title_dilation_window)\n",
    "        dilation_shape = morph_shape(cv.getTrackbarPos(title_trackbar_element_shape, title_dilation_window))\n",
    "        element = cv.getStructuringElement(dilation_shape, (2 * dilatation_size + 1, 2 * dilatation_size + 1),\n",
    "                                        (dilatation_size, dilatation_size))\n",
    "        dilatation_dst = cv.dilate(src, element)\n",
    "        cv.imshow(title_dilation_window, dilatation_dst)\n",
    "    \n",
    "def main(image):\n",
    "    global src\n",
    "    src = cv.imread(cv.samples.findFile(image))\n",
    "    if src is None:\n",
    "        print('Could not open or find the image: ', image)\n",
    "        exit(0)\n",
    "    cv.namedWindow(title_erosion_window)\n",
    "    cv.createTrackbar(title_trackbar_element_shape, title_erosion_window, 0, max_elem, erosion)\n",
    "    cv.createTrackbar(title_trackbar_kernel_size, title_erosion_window, 0, max_kernel_size, erosion)\n",
    "    cv.namedWindow(title_dilation_window)\n",
    "    cv.createTrackbar(title_trackbar_element_shape, title_dilation_window, 0, max_elem, dilatation)\n",
    "    cv.createTrackbar(title_trackbar_kernel_size, title_dilation_window, 0, max_kernel_size, dilatation)\n",
    "    erosion(0)\n",
    "    dilatation(0)\n",
    "    cv.waitKey()"
   ]
  },
  {
   "cell_type": "code",
   "execution_count": 5,
   "metadata": {},
   "outputs": [],
   "source": [
    "main('linux_cat.jpg')"
   ]
  }
 ],
 "metadata": {
  "kernelspec": {
   "display_name": "Python 3",
   "language": "python",
   "name": "python3"
  },
  "language_info": {
   "codemirror_mode": {
    "name": "ipython",
    "version": 3
   },
   "file_extension": ".py",
   "mimetype": "text/x-python",
   "name": "python",
   "nbconvert_exporter": "python",
   "pygments_lexer": "ipython3",
   "version": "3.11.4"
  }
 },
 "nbformat": 4,
 "nbformat_minor": 2
}
